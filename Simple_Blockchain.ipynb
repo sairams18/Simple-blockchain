{
  "nbformat": 4,
  "nbformat_minor": 0,
  "metadata": {
    "colab": {
      "provenance": [],
      "authorship_tag": "ABX9TyNedV/tNQNiFqWj9MkXb2fO",
      "include_colab_link": true
    },
    "kernelspec": {
      "name": "python3",
      "display_name": "Python 3"
    },
    "language_info": {
      "name": "python"
    }
  },
  "cells": [
    {
      "cell_type": "markdown",
      "metadata": {
        "id": "view-in-github",
        "colab_type": "text"
      },
      "source": [
        "<a href=\"https://colab.research.google.com/github/sairams18/Simple-blockchain/blob/main/Simple_Blockchain.ipynb\" target=\"_parent\"><img src=\"https://colab.research.google.com/assets/colab-badge.svg\" alt=\"Open In Colab\"/></a>"
      ]
    },
    {
      "cell_type": "code",
      "execution_count": null,
      "metadata": {
        "id": "y_slPUIOGTp4"
      },
      "outputs": [],
      "source": [
        "#Description : This program simulates a blockchain"
      ]
    },
    {
      "cell_type": "code",
      "source": [
        "#importing the library\n",
        "import hashlib\n"
      ],
      "metadata": {
        "id": "J2-qDb-_GdQU"
      },
      "execution_count": 2,
      "outputs": []
    },
    {
      "cell_type": "code",
      "source": [
        "#Creating a Block class\n",
        "class Block:\n",
        "  def __init__(self, data, prev_hash):\n",
        "    self.data= data\n",
        "    self.prev_hash=prev_hash\n",
        "    self.hash=self.calc_hash()\n",
        "\n",
        "  #Creating a method that calculates the hash using SHA-256\n",
        "  def calc_hash(self):\n",
        "\n",
        "    #calling SHA256 which stands for Secure hashing algorithm\n",
        "    sha=hashlib.sha256()\n",
        "\n",
        "    #updating sha and converting the data in utf 8(unicode Transformation format in 8 bits)\n",
        "    sha.update(self.data.encode('utf-8'))\n",
        "    return sha.hexdigest()\n",
        "\n"
      ],
      "metadata": {
        "id": "svRAkddxGupz"
      },
      "execution_count": 3,
      "outputs": []
    },
    {
      "cell_type": "code",
      "source": [
        "#Create The Blockchain class\n",
        "class Blockchain:\n",
        "  def __init__(self):\n",
        "    self.chain=[self.create_genesis_block()]\n",
        "\n",
        "  #Create a methon that creates the 1st block in the block chain aka geniss block\n",
        "  def create_genesis_block(self):\n",
        "    return Block(\"Genesis Block\", \"0\")\n",
        "\n",
        "  #Create a method that creates a new block and adds it to the block chain ( aka the list)\n",
        "  def add_block(self,data):\n",
        "    prev_block=self.chain[len(self.chain)-1]\n",
        "    new_block=Block(data, prev_block.hash)\n",
        "    self.chain.append(new_block)"
      ],
      "metadata": {
        "id": "OLufNKVwJdmM"
      },
      "execution_count": 4,
      "outputs": []
    },
    {
      "cell_type": "code",
      "source": [
        "#Testing the Block chain\n",
        "blockchain = Blockchain()\n"
      ],
      "metadata": {
        "id": "dEN_UixfLwid"
      },
      "execution_count": 5,
      "outputs": []
    },
    {
      "cell_type": "code",
      "source": [
        "#Adding data to the Block chain\n",
        "blockchain.add_block(\"First Block\")\n",
        "blockchain.add_block(\"Second Block\")\n",
        "blockchain.add_block(\"Third Block\")\n"
      ],
      "metadata": {
        "id": "nYaaIL_gN35a"
      },
      "execution_count": 6,
      "outputs": []
    },
    {
      "cell_type": "code",
      "source": [
        "print('Blockchain:')\n",
        "for block in blockchain.chain:\n",
        "  print('Data:', block.data)\n",
        "  print('Previous hash:', block.prev_hash)\n",
        "  print('Hash:', block.hash)\n",
        "  print()\n"
      ],
      "metadata": {
        "colab": {
          "base_uri": "https://localhost:8080/"
        },
        "id": "cBv9mry2OCxR",
        "outputId": "77998ff2-d46e-4348-8f27-b7aab31c0fda"
      },
      "execution_count": 7,
      "outputs": [
        {
          "output_type": "stream",
          "name": "stdout",
          "text": [
            "Blockchain:\n",
            "Data: Genesis Block\n",
            "Previous hash: 0\n",
            "Hash: 89eb0ac031a63d2421cd05a2fbe41f3ea35f5c3712ca839cbf6b85c4ee07b7a3\n",
            "\n",
            "Data: First Block\n",
            "Previous hash: 89eb0ac031a63d2421cd05a2fbe41f3ea35f5c3712ca839cbf6b85c4ee07b7a3\n",
            "Hash: 541963a34346a1880a17157517a707e582d79fb8cfb7472074be88d93aabc88e\n",
            "\n",
            "Data: Second Block\n",
            "Previous hash: 541963a34346a1880a17157517a707e582d79fb8cfb7472074be88d93aabc88e\n",
            "Hash: 50c9991f8736d9385422d8bb4f863708803184616b3d541058a1f3fc62c638fc\n",
            "\n",
            "Data: Third Block\n",
            "Previous hash: 50c9991f8736d9385422d8bb4f863708803184616b3d541058a1f3fc62c638fc\n",
            "Hash: 60581ee0a808db3fc0b36f7325afb9b6f3cfae4f49d4bf90689d7b0d47956b1b\n",
            "\n"
          ]
        }
      ]
    }
  ]
}